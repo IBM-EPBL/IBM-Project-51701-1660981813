{
  "nbformat": 4,
  "nbformat_minor": 0,
  "metadata": {
    "colab": {
      "provenance": []
    },
    "kernelspec": {
      "name": "python3",
      "display_name": "Python 3"
    },
    "language_info": {
      "name": "python"
    }
  },
  "cells": [
    {
      "cell_type": "code",
      "execution_count": 1,
      "metadata": {
        "id": "wtngXytRynRK",
        "outputId": "d9f8c1d7-75f2-44c9-82eb-4c829e288006",
        "colab": {
          "base_uri": "https://localhost:8080/",
          "height": 130
        }
      },
      "outputs": [
        {
          "output_type": "error",
          "ename": "SyntaxError",
          "evalue": "ignored",
          "traceback": [
            "\u001b[0;36m  File \u001b[0;32m\"<ipython-input-1-6d7e114ff56a>\"\u001b[0;36m, line \u001b[0;32m1\u001b[0m\n\u001b[0;31m    import './App.css'\u001b[0m\n\u001b[0m                     ^\u001b[0m\n\u001b[0;31mSyntaxError\u001b[0m\u001b[0;31m:\u001b[0m invalid syntax\n"
          ]
        }
      ],
      "source": [
        "import './App.css'\n",
        "import React, { useState, useEffect } from \"react\"\n",
        "import axios from \"axios\"\n",
        "import DateTimePicker from \"react-datetime-picker\"\n",
        "\n",
        "function App() {\n",
        "\n",
        "  const [ reminderMsg, setReminderMsg ] = useState(\"\")\n",
        "  const [ remindAt, setRemindAt ] = useState()\n",
        "  const [ reminderList, setReminderList ] = useState([])\n",
        "\n",
        "  useEffect(() => {\n",
        "      axios.get(\"http://localhost:9000/getAllReminder\").then( res => setReminderList(res.data))\n",
        "  }, [])\n",
        "\n",
        "  const addReminder = () => {\n",
        "      axios.post(\"http://localhost:9000/addReminder\", { reminderMsg, remindAt })\n",
        "      .then( res => setReminderList(res.data))\n",
        "      setReminderMsg(\"\")\n",
        "      setRemindAt()\n",
        "  }\n",
        "\n",
        "  const deleteReminder = (id) => {\n",
        "    axios.post(\"http://localhost:9000/deleteReminder\", { id })\n",
        "    .then( res => setReminderList(res.data))\n",
        "  }\n",
        "\n",
        "  return (\n",
        "    <div className=\"App\">\n",
        "      <div className=\"homepage\">\n",
        "\n",
        "        <div className=\"homepage_header\">\n",
        "          <h1>Medicine Reminder 💊 </h1>\n",
        "          <input type=\"text\" placeholder=\"Reminder notes here...\" value={reminderMsg} onChange={e => setReminderMsg(e.target.value)} />\n",
        "          <DateTimePicker \n",
        "            value={remindAt}\n",
        "            onChange={setRemindAt}\n",
        "            minDate={new Date()}\n",
        "            minutePlaceholder=\"mm\"\n",
        "            hourPlaceholder=\"hh\"\n",
        "            dayPlaceholder=\"DD\"\n",
        "            monthPlaceholder=\"MM\"\n",
        "            yearPlaceholder=\"YYYY\"\n",
        "          />\n",
        "          <div className=\"button\" onClick={addReminder}>Add Reminder</div>\n",
        "        </div>\n",
        "\n",
        "\n",
        "        <div className=\"homepage_body\">\n",
        "          {\n",
        "            reminderList.map( reminder => (\n",
        "              <div className=\"reminder_card\" key={reminder._id}>\n",
        "                <h2>{reminder.reminderMsg}</h2>\n",
        "                <h3>Remind Me at:</h3>\n",
        "                <p>{String(new Date(reminder.remindAt.toLocaleString(undefined, {timezone:\"Asia/Kolkata\"})))}</p>\n",
        "                <div className=\"button\" onClick={() => deleteReminder(reminder._id)}>Delete</div>\n",
        "              </div>\n",
        "            ))\n",
        "          }\n",
        "          \n",
        "\n",
        "          \n",
        "        </div>\n",
        "\n",
        "      </div>\n",
        "    </div>\n",
        "  )\n",
        "}\n",
        "\n",
        "export default App;"
      ]
    }
  ]
}