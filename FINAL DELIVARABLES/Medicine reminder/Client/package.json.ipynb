{
  "nbformat": 4,
  "nbformat_minor": 0,
  "metadata": {
    "colab": {
      "provenance": []
    },
    "kernelspec": {
      "name": "python3",
      "display_name": "Python 3"
    },
    "language_info": {
      "name": "python"
    }
  },
  "cells": [
    {
      "cell_type": "code",
      "execution_count": 1,
      "metadata": {
        "id": "pvRff0_DzwxN",
        "outputId": "320a259f-8b0f-404b-8dca-d3bfb4211a23",
        "colab": {
          "base_uri": "https://localhost:8080/",
          "height": 235
        }
      },
      "outputs": [
        {
          "output_type": "error",
          "ename": "NameError",
          "evalue": "ignored",
          "traceback": [
            "\u001b[0;31m---------------------------------------------------------------------------\u001b[0m",
            "\u001b[0;31mNameError\u001b[0m                                 Traceback (most recent call last)",
            "\u001b[0;32m<ipython-input-1-c0205f631c45>\u001b[0m in \u001b[0;36m<module>\u001b[0;34m\u001b[0m\n\u001b[1;32m      2\u001b[0m   \u001b[0;34m\"name\"\u001b[0m\u001b[0;34m:\u001b[0m \u001b[0;34m\"frontend\"\u001b[0m\u001b[0;34m,\u001b[0m\u001b[0;34m\u001b[0m\u001b[0;34m\u001b[0m\u001b[0m\n\u001b[1;32m      3\u001b[0m   \u001b[0;34m\"version\"\u001b[0m\u001b[0;34m:\u001b[0m \u001b[0;34m\"0.1.0\"\u001b[0m\u001b[0;34m,\u001b[0m\u001b[0;34m\u001b[0m\u001b[0;34m\u001b[0m\u001b[0m\n\u001b[0;32m----> 4\u001b[0;31m   \u001b[0;34m\"private\"\u001b[0m\u001b[0;34m:\u001b[0m \u001b[0mtrue\u001b[0m\u001b[0;34m,\u001b[0m\u001b[0;34m\u001b[0m\u001b[0;34m\u001b[0m\u001b[0m\n\u001b[0m\u001b[1;32m      5\u001b[0m   \"dependencies\": {\n\u001b[1;32m      6\u001b[0m     \u001b[0;34m\"@testing-library/jest-dom\"\u001b[0m\u001b[0;34m:\u001b[0m \u001b[0;34m\"^5.16.5\"\u001b[0m\u001b[0;34m,\u001b[0m\u001b[0;34m\u001b[0m\u001b[0;34m\u001b[0m\u001b[0m\n",
            "\u001b[0;31mNameError\u001b[0m: name 'true' is not defined"
          ]
        }
      ],
      "source": [
        "{\n",
        "  \"name\": \"frontend\",\n",
        "  \"version\": \"0.1.0\",\n",
        "  \"private\": true,\n",
        "  \"dependencies\": {\n",
        "    \"@testing-library/jest-dom\": \"^5.16.5\",\n",
        "    \"@testing-library/react\": \"^13.4.0\",\n",
        "    \"@testing-library/user-event\": \"^13.5.0\",\n",
        "    \"axios\": \"^1.1.3\",\n",
        "    \"react\": \"^18.2.0\",\n",
        "    \"react-datetime-picker\": \"^4.0.1\",\n",
        "    \"react-dom\": \"^18.2.0\",\n",
        "    \"react-scripts\": \"5.0.1\",\n",
        "    \"web-vitals\": \"^2.1.4\"\n",
        "  },\n",
        "  \"scripts\": {\n",
        "    \"start\": \"react-scripts start\",\n",
        "    \"build\": \"react-scripts build\",\n",
        "    \"test\": \"react-scripts test\",\n",
        "    \"eject\": \"react-scripts eject\"\n",
        "  },\n",
        "  \"eslintConfig\": {\n",
        "    \"extends\": [\n",
        "      \"react-app\",\n",
        "      \"react-app/jest\"\n",
        "    ]\n",
        "  },\n",
        "  \"browserslist\": {\n",
        "    \"production\": [\n",
        "      \">0.2%\",\n",
        "      \"not dead\",\n",
        "      \"not op_mini all\"\n",
        "    ],\n",
        "    \"development\": [\n",
        "      \"last 1 chrome version\",\n",
        "      \"last 1 firefox version\",\n",
        "      \"last 1 safari version\"\n",
        "    ]\n",
        "  }\n",
        "}"
      ]
    }
  ]
}