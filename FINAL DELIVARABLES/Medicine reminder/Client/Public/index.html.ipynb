{
  "nbformat": 4,
  "nbformat_minor": 0,
  "metadata": {
    "colab": {
      "provenance": []
    },
    "kernelspec": {
      "name": "python3",
      "display_name": "Python 3"
    },
    "language_info": {
      "name": "python"
    }
  },
  "cells": [
    {
      "cell_type": "code",
      "execution_count": 1,
      "metadata": {
        "id": "3TtFWkzAw_hD",
        "outputId": "b3879daf-f032-46ce-9961-9da84b4b3602",
        "colab": {
          "base_uri": "https://localhost:8080/",
          "height": 130
        }
      },
      "outputs": [
        {
          "output_type": "error",
          "ename": "SyntaxError",
          "evalue": "ignored",
          "traceback": [
            "\u001b[0;36m  File \u001b[0;32m\"<ipython-input-1-2d59737dd82f>\"\u001b[0;36m, line \u001b[0;32m1\u001b[0m\n\u001b[0;31m    <!DOCTYPE html>\u001b[0m\n\u001b[0m    ^\u001b[0m\n\u001b[0;31mSyntaxError\u001b[0m\u001b[0;31m:\u001b[0m invalid syntax\n"
          ]
        }
      ],
      "source": [
        "<!DOCTYPE html>\n",
        "<html lang=\"en\">\n",
        "  <head>\n",
        "    <title>Pill Reminder</title>\n",
        "    <link rel=\"icon\" type=\"image/x-icon\" href=\"capsules.png\">\n",
        "  </head>\n",
        "  <body>\n",
        "    <noscript>You need to enable JavaScript to run this app.</noscript>\n",
        "    <div id=\"root\"></div>\n",
        "    \n",
        "  </body>\n",
        "</html>"
      ]
    }
  ]
}